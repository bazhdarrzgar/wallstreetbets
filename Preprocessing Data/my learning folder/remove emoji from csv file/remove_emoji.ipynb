{
 "cells": [
  {
   "cell_type": "code",
   "execution_count": null,
   "metadata": {},
   "outputs": [],
   "source": [
    "import re\n",
    "import emoji"
   ]
  },
  {
   "cell_type": "code",
   "execution_count": null,
   "metadata": {},
   "outputs": [],
   "source": [
    "\n",
    "def strip_emoji(text):\n",
    "    print(emoji.emoji_count(text))\n",
    "    new_text = re.sub(emoji.get_emoji_regexp(), r\"\", text)\n",
    "    return new_text\n",
    "    \n",
    "with open(\"infile.txt\", \"r\") as infile:\n",
    "    old_text = None\n",
    "    old_text = infile.read()\n",
    "no_emoji = None\n",
    "no_emoji = strip_emoji(old_text)\n",
    "\n",
    "with open(\"outfile.txt\", \"w\") as outfile:\n",
    "    outfile.write(no_emoji)"
   ]
  },
  {
   "cell_type": "code",
   "execution_count": null,
   "metadata": {},
   "outputs": [],
   "source": []
  }
 ],
 "metadata": {
  "language_info": {
   "name": "python"
  },
  "orig_nbformat": 4
 },
 "nbformat": 4,
 "nbformat_minor": 2
}
