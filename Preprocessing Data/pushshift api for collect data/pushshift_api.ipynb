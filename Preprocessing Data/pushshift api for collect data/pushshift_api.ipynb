{
 "cells": [
  {
   "cell_type": "markdown",
   "id": "3ee2d297",
   "metadata": {},
   "source": [
    "# Collect r/wallstreetbets Data on Reddit in 2022\n",
    "\n",
    "* In order to make this work, we also need to set the environment variables for Reddit application using the Kaggle feature that allows us to set secrets.\n",
    "\n",
    "* Note: we will also monitor the activity of this collection and dataset update Notebook using integration with neptune.ai"
   ]
  },
  {
   "cell_type": "markdown",
   "id": "b34447fe",
   "metadata": {},
   "source": [
    "## Install praw¶"
   ]
  },
  {
   "cell_type": "code",
   "execution_count": 1,
   "id": "faa882f8",
   "metadata": {
    "collapsed": true
   },
   "outputs": [
    {
     "name": "stdout",
     "output_type": "stream",
     "text": [
      "Defaulting to user installation because normal site-packages is not writeable\n",
      "Requirement already satisfied: praw in /home/soyanswartz/.local/lib/python3.10/site-packages (7.6.0)\n",
      "Requirement already satisfied: prawcore<3,>=2.1 in /home/soyanswartz/.local/lib/python3.10/site-packages (from praw) (2.3.0)\n",
      "Requirement already satisfied: update-checker>=0.18 in /home/soyanswartz/.local/lib/python3.10/site-packages (from praw) (0.18.0)\n",
      "Requirement already satisfied: websocket-client>=0.54.0 in /home/soyanswartz/.local/lib/python3.10/site-packages (from praw) (1.4.1)\n",
      "Requirement already satisfied: requests<3.0,>=2.6.0 in /home/soyanswartz/.local/lib/python3.10/site-packages (from prawcore<3,>=2.1->praw) (2.28.1)\n",
      "Requirement already satisfied: certifi>=2017.4.17 in /home/soyanswartz/.local/lib/python3.10/site-packages (from requests<3.0,>=2.6.0->prawcore<3,>=2.1->praw) (2022.9.24)\n",
      "Requirement already satisfied: urllib3<1.27,>=1.21.1 in /home/soyanswartz/.local/lib/python3.10/site-packages (from requests<3.0,>=2.6.0->prawcore<3,>=2.1->praw) (1.26.12)\n",
      "Requirement already satisfied: charset-normalizer<3,>=2 in /home/soyanswartz/.local/lib/python3.10/site-packages (from requests<3.0,>=2.6.0->prawcore<3,>=2.1->praw) (2.1.1)\n",
      "Requirement already satisfied: idna<4,>=2.5 in /home/soyanswartz/.local/lib/python3.10/site-packages (from requests<3.0,>=2.6.0->prawcore<3,>=2.1->praw) (3.4)\n"
     ]
    }
   ],
   "source": [
    "!pip install praw"
   ]
  },
  {
   "cell_type": "markdown",
   "id": "837cf88d",
   "metadata": {},
   "source": [
    "## Instal neptune"
   ]
  },
  {
   "cell_type": "code",
   "execution_count": 2,
   "id": "00cd766c",
   "metadata": {
    "collapsed": true
   },
   "outputs": [
    {
     "name": "stdout",
     "output_type": "stream",
     "text": [
      "Defaulting to user installation because normal site-packages is not writeable\n",
      "Collecting neptune-client\n",
      "  Downloading neptune-client-0.16.11.tar.gz (254 kB)\n",
      "\u001b[2K     \u001b[38;2;114;156;31m━━━━━━━━━━━━━━━━━━━━━━━━━━━━━━━━━━━━━━━\u001b[0m \u001b[32m254.5/254.5 kB\u001b[0m \u001b[31m1.5 MB/s\u001b[0m eta \u001b[36m0:00:00\u001b[0m MB/s\u001b[0m eta \u001b[36m0:00:01\u001b[0m:01\u001b[0m\n",
      "\u001b[?25h  Preparing metadata (setup.py) ... \u001b[?25ldone\n",
      "\u001b[?25hCollecting bravado<12.0.0,>=11.0.0\n",
      "  Downloading bravado-11.0.3-py2.py3-none-any.whl (38 kB)\n",
      "Requirement already satisfied: click>=7.0 in /usr/lib/python3/dist-packages (from neptune-client) (8.0.3)\n",
      "Requirement already satisfied: future>=0.17.1 in /usr/lib/python3/dist-packages (from neptune-client) (0.18.2)\n",
      "Requirement already satisfied: oauthlib>=2.1.0 in /usr/lib/python3/dist-packages (from neptune-client) (3.2.0)\n",
      "Requirement already satisfied: pandas in /home/soyanswartz/.local/lib/python3.10/site-packages (from neptune-client) (1.5.0)\n",
      "Requirement already satisfied: Pillow>=1.1.6 in /home/soyanswartz/.local/lib/python3.10/site-packages (from neptune-client) (9.2.0)\n",
      "Requirement already satisfied: PyJWT in /usr/lib/python3/dist-packages (from neptune-client) (2.3.0)\n",
      "Requirement already satisfied: requests>=2.20.0 in /home/soyanswartz/.local/lib/python3.10/site-packages (from neptune-client) (2.28.1)\n",
      "Requirement already satisfied: requests-oauthlib>=1.0.0 in /home/soyanswartz/.local/lib/python3.10/site-packages (from neptune-client) (1.3.1)\n",
      "Requirement already satisfied: six>=1.12.0 in /home/soyanswartz/.local/lib/python3.10/site-packages (from neptune-client) (1.16.0)\n",
      "Requirement already satisfied: websocket-client!=1.0.0,>=0.35.0 in /home/soyanswartz/.local/lib/python3.10/site-packages (from neptune-client) (1.4.1)\n",
      "Requirement already satisfied: GitPython>=2.0.8 in /home/soyanswartz/.local/lib/python3.10/site-packages (from neptune-client) (3.1.27)\n",
      "Requirement already satisfied: boto3>=1.16.0 in /home/soyanswartz/.local/lib/python3.10/site-packages (from neptune-client) (1.24.85)\n",
      "Requirement already satisfied: packaging in /home/soyanswartz/.local/lib/python3.10/site-packages (from neptune-client) (21.3)\n",
      "Requirement already satisfied: urllib3 in /home/soyanswartz/.local/lib/python3.10/site-packages (from neptune-client) (1.26.12)\n",
      "Collecting swagger-spec-validator>=2.7.4\n",
      "  Downloading swagger_spec_validator-3.0.2-py2.py3-none-any.whl (27 kB)\n",
      "Requirement already satisfied: psutil in /home/soyanswartz/.local/lib/python3.10/site-packages (from neptune-client) (5.9.2)\n",
      "Requirement already satisfied: s3transfer<0.7.0,>=0.6.0 in /home/soyanswartz/.local/lib/python3.10/site-packages (from boto3>=1.16.0->neptune-client) (0.6.0)\n",
      "Requirement already satisfied: jmespath<2.0.0,>=0.7.1 in /home/soyanswartz/.local/lib/python3.10/site-packages (from boto3>=1.16.0->neptune-client) (1.0.1)\n",
      "Requirement already satisfied: botocore<1.28.0,>=1.27.85 in /home/soyanswartz/.local/lib/python3.10/site-packages (from boto3>=1.16.0->neptune-client) (1.27.85)\n",
      "Requirement already satisfied: python-dateutil in /home/soyanswartz/.local/lib/python3.10/site-packages (from bravado<12.0.0,>=11.0.0->neptune-client) (2.8.2)\n",
      "Collecting simplejson\n",
      "  Downloading simplejson-3.17.6-cp310-cp310-manylinux_2_5_x86_64.manylinux1_x86_64.manylinux_2_12_x86_64.manylinux2010_x86_64.whl (137 kB)\n",
      "\u001b[2K     \u001b[38;2;114;156;31m━━━━━━━━━━━━━━━━━━━━━━━━━━━━━━━━━━━━━━━\u001b[0m \u001b[32m137.1/137.1 kB\u001b[0m \u001b[31m5.1 MB/s\u001b[0m eta \u001b[36m0:00:00\u001b[0m\n",
      "\u001b[?25hRequirement already satisfied: typing-extensions in /usr/local/lib/python3.10/dist-packages (from bravado<12.0.0,>=11.0.0->neptune-client) (4.3.0)\n",
      "Collecting bravado-core>=5.16.1\n",
      "  Downloading bravado_core-5.17.1-py2.py3-none-any.whl (67 kB)\n",
      "\u001b[2K     \u001b[38;2;114;156;31m━━━━━━━━━━━━━━━━━━━━━━━━━━━━━━━━━━━━━━━━\u001b[0m \u001b[32m67.7/67.7 kB\u001b[0m \u001b[31m3.4 MB/s\u001b[0m eta \u001b[36m0:00:00\u001b[0m\n",
      "\u001b[?25hRequirement already satisfied: monotonic in /usr/lib/python3/dist-packages (from bravado<12.0.0,>=11.0.0->neptune-client) (1.6)\n",
      "Requirement already satisfied: pyyaml in /home/soyanswartz/.local/lib/python3.10/site-packages (from bravado<12.0.0,>=11.0.0->neptune-client) (6.0)\n",
      "Requirement already satisfied: msgpack in /home/soyanswartz/.local/lib/python3.10/site-packages (from bravado<12.0.0,>=11.0.0->neptune-client) (1.0.3)\n",
      "Requirement already satisfied: gitdb<5,>=4.0.1 in /home/soyanswartz/.local/lib/python3.10/site-packages (from GitPython>=2.0.8->neptune-client) (4.0.9)\n",
      "Requirement already satisfied: idna<4,>=2.5 in /home/soyanswartz/.local/lib/python3.10/site-packages (from requests>=2.20.0->neptune-client) (3.4)\n",
      "Requirement already satisfied: certifi>=2017.4.17 in /home/soyanswartz/.local/lib/python3.10/site-packages (from requests>=2.20.0->neptune-client) (2022.9.24)\n",
      "Requirement already satisfied: charset-normalizer<3,>=2 in /home/soyanswartz/.local/lib/python3.10/site-packages (from requests>=2.20.0->neptune-client) (2.1.1)\n",
      "Requirement already satisfied: jsonschema in /home/soyanswartz/.local/lib/python3.10/site-packages (from swagger-spec-validator>=2.7.4->neptune-client) (4.16.0)\n",
      "Requirement already satisfied: pyparsing!=3.0.5,>=2.0.2 in /home/soyanswartz/.local/lib/python3.10/site-packages (from packaging->neptune-client) (3.0.9)\n",
      "Requirement already satisfied: numpy>=1.21.0 in /home/soyanswartz/.local/lib/python3.10/site-packages (from pandas->neptune-client) (1.23.3)\n",
      "Requirement already satisfied: pytz>=2020.1 in /home/soyanswartz/.local/lib/python3.10/site-packages (from pandas->neptune-client) (2022.2.1)\n",
      "Collecting jsonref\n",
      "  Downloading jsonref-1.0.0.post1-py3-none-any.whl (9.5 kB)\n",
      "Requirement already satisfied: smmap<6,>=3.0.1 in /home/soyanswartz/.local/lib/python3.10/site-packages (from gitdb<5,>=4.0.1->GitPython>=2.0.8->neptune-client) (5.0.0)\n",
      "Requirement already satisfied: pyrsistent!=0.17.0,!=0.17.1,!=0.17.2,>=0.14.0 in /home/soyanswartz/.local/lib/python3.10/site-packages (from jsonschema->swagger-spec-validator>=2.7.4->neptune-client) (0.18.1)\n",
      "Requirement already satisfied: attrs>=17.4.0 in /home/soyanswartz/.local/lib/python3.10/site-packages (from jsonschema->swagger-spec-validator>=2.7.4->neptune-client) (22.1.0)\n",
      "Collecting rfc3339-validator\n",
      "  Downloading rfc3339_validator-0.1.4-py2.py3-none-any.whl (3.5 kB)\n",
      "Collecting jsonpointer>1.13\n",
      "  Downloading jsonpointer-2.3-py2.py3-none-any.whl (7.8 kB)\n",
      "Collecting webcolors>=1.11\n",
      "  Downloading webcolors-1.12-py3-none-any.whl (9.9 kB)\n",
      "Collecting isoduration\n",
      "  Downloading isoduration-20.11.0-py3-none-any.whl (11 kB)\n",
      "Collecting fqdn\n",
      "  Downloading fqdn-1.5.1-py3-none-any.whl (9.1 kB)\n",
      "Collecting uri-template\n",
      "  Downloading uri_template-1.2.0-py3-none-any.whl (10 kB)\n",
      "Collecting rfc3987\n",
      "  Downloading rfc3987-1.3.8-py2.py3-none-any.whl (13 kB)\n",
      "Collecting arrow>=0.15.0\n",
      "  Downloading arrow-1.2.3-py3-none-any.whl (66 kB)\n",
      "\u001b[2K     \u001b[38;2;114;156;31m━━━━━━━━━━━━━━━━━━━━━━━━━━━━━━━━━━━━━━━━\u001b[0m \u001b[32m66.4/66.4 kB\u001b[0m \u001b[31m3.8 MB/s\u001b[0m eta \u001b[36m0:00:00\u001b[0m\n",
      "\u001b[?25hBuilding wheels for collected packages: neptune-client\n",
      "  Building wheel for neptune-client (setup.py) ... \u001b[?25ldone\n",
      "\u001b[?25h  Created wheel for neptune-client: filename=neptune_client-0.16.11-py2.py3-none-any.whl size=426869 sha256=c7a4cf0e2c039de5be5fa9e66ed682c3f7b6f272f9da6f0d4e4052d681919346\n",
      "  Stored in directory: /home/soyanswartz/.cache/pip/wheels/2a/cf/92/86442525ca01afc0c370006aa113a4f69749dd1d761270ce23\n",
      "Successfully built neptune-client\n",
      "Installing collected packages: rfc3987, webcolors, uri-template, simplejson, rfc3339-validator, jsonref, jsonpointer, fqdn, swagger-spec-validator, arrow, isoduration, bravado-core, bravado, neptune-client\n",
      "Successfully installed arrow-1.2.3 bravado-11.0.3 bravado-core-5.17.1 fqdn-1.5.1 isoduration-20.11.0 jsonpointer-2.3 jsonref-1.0.0.post1 neptune-client-0.16.11 rfc3339-validator-0.1.4 rfc3987-1.3.8 simplejson-3.17.6 swagger-spec-validator-3.0.2 uri-template-1.2.0 webcolors-1.12\n"
     ]
    }
   ],
   "source": [
    "!pip3 install neptune-client"
   ]
  },
  {
   "cell_type": "markdown",
   "id": "a462db8d",
   "metadata": {},
   "source": [
    "## Packages I used"
   ]
  },
  {
   "cell_type": "code",
   "execution_count": 10,
   "id": "9f177ed3",
   "metadata": {},
   "outputs": [],
   "source": [
    "!pip install pandas\n",
    "!pip install tqdm\n",
    "!pip install nepture\n",
    "!pip install neptune-client"
   ]
  },
  {
   "cell_type": "code",
   "execution_count": 1,
   "id": "cac37245",
   "metadata": {},
   "outputs": [],
   "source": [
    "import os\n",
    "import praw\n",
    "import neptune.new as neptune\n",
    "import pandas as pd\n",
    "import datetime as dt\n",
    "from tqdm import tqdm\n",
    "import time"
   ]
  },
  {
   "cell_type": "markdown",
   "id": "e6e2a8d3",
   "metadata": {},
   "source": [
    "## Environments setup for Reddit and neptune.ai secrets\n",
    "how you can use secrets api key with kaggle: [Feature Launch: User Secrets](https://www.kaggle.com/product-feedback/114053)\n",
    "\n",
    "### neptune.ai secret token\n",
    "\n",
    "* **What is neptune.ai**\n",
    "\n",
    "Neptune is metadata store that offers experiment tracking and model registry for machine learning researchers and engineers. With Neptune, you can log, query, manage, display, and compare all your model metadata in a single place.\n",
    "\n",
    "* Creating API token from neptune.ai\n",
    "\n",
    "1. step 1\n",
    "    - Sign Up form [neptune_api website](https://app.neptune.ai/) \n",
    "    \n",
    "    - Go to dashboard\n",
    "    \n",
    "    - in your profile menu select the ( GET your API token )\n",
    "    \n",
    "![image](images/get_api_token.png)\n",
    "\n",
    "2. step 2\n",
    "\n",
    "![image](images/1.png)\n",
    "\n",
    "\n",
    "### Reddit secret token\n",
    "\n",
    "1. step 1\n",
    "\n",
    "go to this [url](https://www.reddit.com/prefs/apps) and click to ( create new app... )\n",
    "\n",
    "![image](images/2.png)\n",
    "\n",
    "in the end you should get something like this\n",
    "\n",
    "![image](images/3.png)\n",
    "\n",
    "\n",
    "2. step 2\n",
    "\n",
    "after that you should get this data\n",
    "\n",
    "![image](images/4.png)\n",
    "\n",
    "    - below type of app you should get = REDDIT_PERSONAL_USE_SCRIPT_14_CHARS\n",
    "    - secret = REDDIT_SECRET_KEY_27_CHARS\n",
    "    - name = REDDIT_APP_NAME\n",
    "    - username of reddit profile = REDDIT_USER_NAME\n",
    "    - password reddit profile = REDDIT_LOGIN_PASSWORD\n"
   ]
  },
  {
   "cell_type": "code",
   "execution_count": 9,
   "id": "7b9472fc",
   "metadata": {},
   "outputs": [],
   "source": [
    "from kaggle_secrets import UserSecretsClient\n",
    "user_secrets = UserSecretsClient()\n",
    "# secret_value_0 = user_secrets.get_secret(\"label-secrets\")"
   ]
  },
  {
   "cell_type": "markdown",
   "id": "fdf0184d",
   "metadata": {},
   "source": [
    "## Neptune.ai initialization¶"
   ]
  },
  {
   "cell_type": "code",
   "execution_count": null,
   "id": "a7bc58c6",
   "metadata": {},
   "outputs": [],
   "source": [
    "neptune_api_token = user_secrets.get_secret(\"neptune_api\")\n",
    "run = None\n",
    "try:\n",
    "    run = neptune.init(\n",
    "        project=\"preda/WallStreetBets\",\n",
    "        api_token=neptune_api_token,\n",
    "    )\n",
    "except Exception as ex:\n",
    "    print(f\"Ex: {ex}\")"
   ]
  },
  {
   "cell_type": "markdown",
   "id": "9a602a2b",
   "metadata": {},
   "source": [
    "## Configure the api requirement for featching data"
   ]
  },
  {
   "cell_type": "code",
   "execution_count": 4,
   "id": "f9de65b4",
   "metadata": {},
   "outputs": [],
   "source": [
    "def get_date(created):\n",
    "    return dt.datetime.fromtimestamp(created)\n",
    "\n",
    "\n",
    "def reddit_connection(environment=\"Kaggle\"):\n",
    "    \n",
    "    if environment == \"Kaggle\":\n",
    "        personal_use_script = user_secrets.get_secret(\"REDDIT_PERSONAL_USE_SCRIPT_14_CHARS\")\n",
    "        client_secret = user_secrets.get_secret(\"REDDIT_SECRET_KEY_27_CHARS\")\n",
    "        user_agent = user_secrets.get_secret(\"REDDIT_APP_NAME\")\n",
    "        username = user_secrets.get_secret(\"REDDIT_USER_NAME\")\n",
    "        password = user_secrets.get_secret(\"REDDIT_LOGIN_PASSWORD\")\n",
    "         \n",
    "    else: #local (Linux/Windows) environment\n",
    "        personal_use_script = os.environ[\"REDDIT_PERSONAL_USE_SCRIPT_14_CHARS\"]\n",
    "        client_secret = os.environ[\"REDDIT_SECRET_KEY_27_CHARS\"]\n",
    "        user_agent = os.environ[\"REDDIT_APP_NAME\"]\n",
    "        username = os.environ[\"REDDIT_USER_NAME\"]\n",
    "        password = os.environ[\"REDDIT_LOGIN_PASSWORD\"]\n",
    "\n",
    "    reddit = praw.Reddit(client_id=personal_use_script, \\\n",
    "                         client_secret=client_secret, \\\n",
    "                         user_agent=user_agent, \\\n",
    "                         username=username, \\\n",
    "                         password='')\n",
    "    return reddit"
   ]
  },
  {
   "cell_type": "markdown",
   "id": "655ce705",
   "metadata": {},
   "source": [
    "## Build the dataset (daily update)"
   ]
  },
  {
   "cell_type": "code",
   "execution_count": 5,
   "id": "4b4b2d73",
   "metadata": {},
   "outputs": [],
   "source": [
    "def build_dataset(reddit, search_words='wallstreetbets', items_limit=4000):\n",
    "    \n",
    "    # Collect reddit posts\n",
    "    subreddit = reddit.subreddit(search_words)\n",
    "    new_subreddit = subreddit.new(limit=items_limit)\n",
    "    topics_dict = { \"title\":[],\n",
    "                \"score\":[],\n",
    "                \"id\":[], \"url\":[],\n",
    "                \"comms_num\": [],\n",
    "                \"created\": [],\n",
    "                \"body\":[]}\n",
    "    \n",
    "    print(f\"retreive new reddit posts ...\")\n",
    "    for submission in tqdm(new_subreddit):\n",
    "        topics_dict[\"title\"].append(submission.title)\n",
    "        topics_dict[\"score\"].append(submission.score)\n",
    "        topics_dict[\"id\"].append(submission.id)\n",
    "        topics_dict[\"url\"].append(submission.url)\n",
    "        topics_dict[\"comms_num\"].append(submission.num_comments)\n",
    "        topics_dict[\"created\"].append(submission.created)\n",
    "        topics_dict[\"body\"].append(submission.selftext)\n",
    "\n",
    "    for comment in tqdm(subreddit.comments(limit=items_limit)):\n",
    "        topics_dict[\"title\"].append(\"Comment\")\n",
    "        topics_dict[\"score\"].append(comment.score)\n",
    "        topics_dict[\"id\"].append(comment.id)\n",
    "        topics_dict[\"url\"].append(\"\")\n",
    "        topics_dict[\"comms_num\"].append(0)\n",
    "        topics_dict[\"created\"].append(comment.created)\n",
    "        topics_dict[\"body\"].append(comment.body)\n",
    "\n",
    "    topics_df = pd.DataFrame(topics_dict)\n",
    "    print(f\"new reddit posts retrieved: {len(topics_df)}\")\n",
    "    topics_df['timestamp'] = topics_df['created'].apply(lambda x: get_date(x))\n",
    "\n",
    "    return topics_df"
   ]
  },
  {
   "cell_type": "markdown",
   "id": "661a44bc",
   "metadata": {},
   "source": [
    "## [Option] Update and save dataset\n",
    "We perform the following actions for meargin with old data from pass:\n",
    "\n",
    "* Load old data\n",
    "* Merge the two datasets\n",
    "* Save the merged data\n",
    "We also log here the information on the updated dataset."
   ]
  },
  {
   "cell_type": "code",
   "execution_count": 6,
   "id": "e1c82ede",
   "metadata": {},
   "outputs": [],
   "source": [
    "def update_and_save_dataset(topics_df):   \n",
    "    file_path = \"../input/wallstreetbets-2022/wallstreetbets_2022.csv\"\n",
    "    out_file_path = \"wallstreetbets_2022.csv\"\n",
    "    if run:\n",
    "        run[\"rows_new\"] = topics_df.shape[0]\n",
    "        run[\"cols_new\"] = topics_df.shape[1]\n",
    "    if os.path.exists(file_path):\n",
    "        topics_old_df = pd.read_csv(file_path)\n",
    "        if run:\n",
    "            run[\"rows_old\"] = topics_old_df.shape[0]\n",
    "            run[\"cols_old\"] = topics_old_df.shape[1]\n",
    "        print(f\"past reddit posts: {topics_old_df.shape}\")\n",
    "        topics_all_df = pd.concat([topics_old_df, topics_df], axis=0)\n",
    "        print(f\"new reddit posts: {topics_df.shape[0]} past posts: {topics_old_df.shape[0]} all posts: {topics_all_df.shape[0]}\")\n",
    "        topics_new_df = topics_all_df.drop_duplicates(subset = [\"id\"], keep='last', inplace=False)\n",
    "        print(f\"all reddit posts: {topics_new_df.shape}\")\n",
    "        if run:\n",
    "            run[\"rows_merged\"] = topics_old_df.shape[0]\n",
    "            run[\"cols_merged\"] = topics_old_df.shape[1]\n",
    "        topics_new_df.to_csv(out_file_path, index=False)\n",
    "    else:\n",
    "        print(f\"reddit posts: {topics_df.shape}\")\n",
    "        topics_df.to_csv(out_file_path, index=False)"
   ]
  },
  {
   "cell_type": "markdown",
   "id": "a0dadbb3",
   "metadata": {},
   "source": [
    "## Run it all\n",
    "\n",
    "* Initialize connection\n",
    "* Build the dataset\n",
    "* Update and save the dataset"
   ]
  },
  {
   "cell_type": "code",
   "execution_count": 11,
   "id": "84d16590",
   "metadata": {},
   "outputs": [],
   "source": [
    "reddit = reddit_connection()\n",
    "topics_data_df = build_dataset(reddit)\n",
    "update_and_save_dataset(topics_data_df)"
   ]
  },
  {
   "cell_type": "markdown",
   "id": "d2943e4b",
   "metadata": {},
   "source": [
    "## Stop neptune.ai session\n",
    "Make sure to stop neptune.ai session before existing the run."
   ]
  },
  {
   "cell_type": "code",
   "execution_count": 12,
   "id": "477bc5c0",
   "metadata": {},
   "outputs": [],
   "source": [
    "if run:\n",
    "    run.stop()"
   ]
  }
 ],
 "metadata": {
  "kernelspec": {
   "display_name": "Python 3 (ipykernel)",
   "language": "python",
   "name": "python3"
  },
  "language_info": {
   "codemirror_mode": {
    "name": "ipython",
    "version": 3
   },
   "file_extension": ".py",
   "mimetype": "text/x-python",
   "name": "python",
   "nbconvert_exporter": "python",
   "pygments_lexer": "ipython3",
   "version": "3.10.6"
  }
 },
 "nbformat": 4,
 "nbformat_minor": 5
}
