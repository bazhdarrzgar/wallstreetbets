{
 "cells": [
  {
   "cell_type": "markdown",
   "id": "9174492e",
   "metadata": {},
   "source": [
    "## Option 1"
   ]
  },
  {
   "cell_type": "code",
   "execution_count": 2,
   "id": "6c0d1e8e",
   "metadata": {},
   "outputs": [],
   "source": [
    "data = data2 = \"\"\n",
    "  \n",
    "# Reading data from csv one\n",
    "with open('StockMarket0.csv') as fp:\n",
    "    data = fp.read()\n",
    "  \n",
    "# Reading data from csv two\n",
    "with open('StockMarket1.csv') as fp:\n",
    "    data2 = fp.read()\n",
    "  \n",
    "# Merging 2 files\n",
    "data += \"\\n\"\n",
    "data += data2\n",
    "  \n",
    "with open ('Stock Market.csv', 'w') as fp:\n",
    "    fp.write(data)"
   ]
  },
  {
   "cell_type": "markdown",
   "id": "b2c0075b",
   "metadata": {},
   "source": [
    "## Option 2"
   ]
  },
  {
   "cell_type": "code",
   "execution_count": 3,
   "id": "a72e6d9c",
   "metadata": {},
   "outputs": [],
   "source": [
    "# Creating a list of filenames\n",
    "filenames = ['StockMarket0.csv', 'StockMarket1.csv']\n",
    "  \n",
    "# Open ( Stock Market.csv ) in write mode\n",
    "with open('Stock Market.csv', 'w') as outfile:\n",
    "  \n",
    "    # Iterate through list\n",
    "    for names in filenames:\n",
    "  \n",
    "        # Open each file in read mode\n",
    "        with open(names) as infile:\n",
    "  \n",
    "            outfile.write(infile.read())\n",
    "  \n",
    "        # Add '\\n' to enter data to csv ( StockMarket0.csv ) from next line\n",
    "        outfile.write(\"\\n\")"
   ]
  }
 ],
 "metadata": {
  "kernelspec": {
   "display_name": "Python 3 (ipykernel)",
   "language": "python",
   "name": "python3"
  },
  "language_info": {
   "codemirror_mode": {
    "name": "ipython",
    "version": 3
   },
   "file_extension": ".py",
   "mimetype": "text/x-python",
   "name": "python",
   "nbconvert_exporter": "python",
   "pygments_lexer": "ipython3",
   "version": "3.10.6"
  }
 },
 "nbformat": 4,
 "nbformat_minor": 5
}
